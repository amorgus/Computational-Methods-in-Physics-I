{
  "nbformat": 4,
  "nbformat_minor": 0,
  "metadata": {
    "colab": {
      "provenance": []
    },
    "kernelspec": {
      "name": "python3",
      "display_name": "Python 3"
    }
  },
  "cells": [
    {
      "cell_type": "markdown",
      "metadata": {
        "id": "G0BcK0H_G1Iu"
      },
      "source": [
        "# **AP155 Lab Assignment** \n",
        "## Module 1: Integrals and Derivatives\n",
        "\n",
        "_Instructions_: Answer each problem as completely as you can. Discuss **all** your answers as clearly and concisely as possible. \n",
        "\n",
        "_Scoring Criteria_: 50% - *correctness of code*; 50% - *discussion of the code and results*. Maximum score is **100 points** (Problems 1 to 5 are worth 20, 20, 10, 30, and 20 points, respectively).\n",
        "\n",
        "_Due Date_: **5PM of November 3 (Thu)**\n",
        "\n"
      ]
    },
    {
      "cell_type": "markdown",
      "metadata": {
        "id": "PeHZ9kP8JaVR"
      },
      "source": [
        "### Student Information \n",
        "\n",
        "_Full Name (Last Name, First Name)_:  Hernandez, Hans Emmanuel \\\n",
        "_Student No._: 2020-11387 \\\n",
        "_Section_: THU-HX-4"
      ]
    },
    {
      "cell_type": "markdown",
      "metadata": {
        "id": "Hc183co-J4eI"
      },
      "source": [
        "### Submission Information\n",
        "\n",
        "_Date and Time Submitted (most recent upload)_: November 16\n",
        "\n",
        "**HONOR PLEDGE** I affirm that I have upheld the highest principles of honesty and integrity in my academic work and that this lab assignment is my own work.\n",
        "\n",
        "**Sign here with your full name: HANS EMMANUEL HERNANDEZ** "
      ]
    },
    {
      "cell_type": "markdown",
      "metadata": {
        "id": "X1UGsRpW-eQs"
      },
      "source": [
        "### Grading Information (c/o Lab Instructor)\n",
        "\n",
        "TOTAL SCORE: **XX**/100\n",
        "\n",
        "Score breakdown:\n",
        "* Problem 1 - XX/20\n",
        "* Problem 2 - XX/20\n",
        "* Problem 3 - XX/10\n",
        "* Problem 4 - XX/30\n",
        "* Problem 5 - XX/20\n",
        "\n",
        "_Date and Time Scored (MM/DD/YYYY HH:MM AM/PM):_ "
      ]
    },
    {
      "cell_type": "markdown",
      "metadata": {
        "id": "LxWuqiCFMsEh"
      },
      "source": [
        "PROBLEM 1 (20 pts.) \n",
        "**Integration using the trapezoidal rule and Simpson's rule**\n",
        "\n",
        "Calculate the integral of the function $ 2x^4 + 3x^2 + 4x + 5$ from $x=0$ to $x=5$.\n",
        "\n",
        "1. Do the numerical calculation using the trapezoidal rule with 10, 100, and 1,000 slices. Describe each step of the calculation clearly and concisely. *(8 pts.; 4 pts. for the code & 4 pts. for the discussion text)*\n",
        "\n",
        "2. What are the percentage errors of your answers in (1)? *(2 pts.)*\n",
        "\n",
        "3. Repeat the calculation using Simpson's rule with 10, 100, and 1,000 slices. Describe each step of the calculation clearly and concisely. *(8 pts.;  4 pts. for the code & 4 pts. for the discussion text)*\n",
        "\n",
        "4. What are the percentage errors of your answers in (3)? How do they compare with the results from (1) for the same number of slices? *(2 pts.)*"
      ]
    },
    {
      "cell_type": "code",
      "source": [
        "import numpy as np\n",
        "import pandas as pd\n",
        "import matplotlib.pyplot as plt\n",
        "import math\n",
        "from numpy import ones,copy,sin,cos,cosh,tan,tanh,pi,linspace,sqrt"
      ],
      "metadata": {
        "id": "-m0tnSer-5RZ"
      },
      "execution_count": 89,
      "outputs": []
    },
    {
      "cell_type": "markdown",
      "source": [
        "**TRAPEZOIDAL RULE**"
      ],
      "metadata": {
        "id": "VqvmRsiDLJoA"
      }
    },
    {
      "cell_type": "code",
      "source": [
        "# Define the given function as f(x)\n",
        "def f(x):\n",
        "  return (2*x**4 + 3*x**2 + 4*x + 5)\n",
        "\n",
        "# Define the trapezoidal rule\n",
        "def trapezoid(f, N, a, b):\n",
        "  h = (b-a)/N                                          # width formula\n",
        "  m = 0.5*f(a) + 0.5*f(b)                              # initialize m\n",
        "# Summation in loop over slices k from 1 to N-1\n",
        "  for k in range(1,N):                                 \n",
        "      m += f(a+k*h)\n",
        "  m = m*h                                              # trapezoidal rule formula\n",
        "  return(m)                                            # returns experimental value of integral"
      ],
      "metadata": {
        "id": "P3r9fxyEI8pJ"
      },
      "execution_count": 174,
      "outputs": []
    },
    {
      "cell_type": "code",
      "source": [
        "# Make an array containing the N slices\n",
        "N_arr = np.array([10, 100, 1000])\n",
        "a = 0                                                  # lower bound\n",
        "b = 5.0                                                # upper bound\n",
        "\n",
        "# Initialize arrays with zeroes \n",
        "m_arr = np.zeros(len(N_arr))                           # array for experimental value of integral\n",
        "pct_arr = np.zeros(len(N_arr))                         # array for percent error of experimental integral\n",
        "exact_m = 1450                                         # exact value of integral\n",
        "\n",
        "# Loop over elements of the constructed arrays\n",
        "for i in np.arange(len(N_arr)):\n",
        "  m_arr[i] = trapezoid(f, N_arr[i], a, b)              # solve for elements in m_arr using user-defined trapezoid function\n",
        "  pct_arr[i] = (m_arr[i] - exact_m) / exact_m          # solve for elements in pct_arr using the standard percent error formula\n",
        "  print(\"Slices:\", N_arr[i], \"Experimental value:\", m_arr[i], \"Percent error:\", pct_arr[i])            "
      ],
      "metadata": {
        "colab": {
          "base_uri": "https://localhost:8080/"
        },
        "id": "4DX3F82tJCSu",
        "outputId": "64f2cbcf-b6cd-4c3e-d3a8-085fe5335350"
      },
      "execution_count": 175,
      "outputs": [
        {
          "output_type": "stream",
          "name": "stdout",
          "text": [
            "Slices: 10 Experimental value: 1471.4375 Percent error: 0.01478448275862069\n",
            "Slices: 100 Experimental value: 1450.2145812500003 Percent error: 0.00014798706896569988\n",
            "Slices: 1000 Experimental value: 1450.0021458331234 Percent error: 1.4798849127240327e-06\n"
          ]
        }
      ]
    },
    {
      "cell_type": "markdown",
      "source": [
        "**SIMPSON'S RULE**"
      ],
      "metadata": {
        "id": "3SuxBizCLMwt"
      }
    },
    {
      "cell_type": "code",
      "source": [
        "# Define the Simpson's rule\n",
        "def simpson(N, a, b):\n",
        "  h = (b-a)/N                    # width formula\n",
        "  s = f(a) + f(b)                # initialize s\n",
        "  for k in range(1,N,2):         # loop over the odd values of k\n",
        "      s += 4*f(a+k*h)\n",
        "  for k in range(2,N,2):         # loop over the even values of k\n",
        "      s += 2*f(a+k*h)\n",
        "  s = s*(1./3)*h                 # Simpson's rule formula\n",
        "  return(s)                      # returns experimental value of integral"
      ],
      "metadata": {
        "id": "p-BPtw7JLPNC"
      },
      "execution_count": 92,
      "outputs": []
    },
    {
      "cell_type": "code",
      "source": [
        "# Make an array containing the N slices\n",
        "N_arr = np.array([10, 100, 1000])                   \n",
        "a = 0.0                                             # lower bound\n",
        "b = 5.0                                             # upper bound\n",
        "\n",
        "# Initialize arrays with zeroes \n",
        "s_arr = np.zeros(len(N_arr))                        # array for experimental value of integral\n",
        "pct_arr = np.zeros(len(N_arr))                      # array for percent error of experimental integral\n",
        "exact_s = 1450                                      # exact value of integral\n",
        "\n",
        "# Loop over elements of the constructed arrays\n",
        "for i in np.arange(len(N_arr)):\n",
        "  s_arr[i] = simpson(N_arr[i], a, b)                # solve for elements in s_arr using user-defined simpson function\n",
        "  pct_arr[i] = (s_arr[i] - exact_s)/exact_s         # solve for elements in pct_arr using the standard percent error formula\n",
        "  print(\"Slices:\", N_arr[i], \"Experimental value:\", s_arr[i], \"Percent error:\", pct_arr[i])"
      ],
      "metadata": {
        "colab": {
          "base_uri": "https://localhost:8080/"
        },
        "id": "pPEQDnnZLPrE",
        "outputId": "074965a5-2397-47f9-8889-2f5a4b14a7b7"
      },
      "execution_count": 93,
      "outputs": [
        {
          "output_type": "stream",
          "name": "stdout",
          "text": [
            "Slices: 10 Experimental value: 1450.0833333333333 Percent error: 5.7471264367763824e-05\n",
            "Slices: 100 Experimental value: 1450.0000083333337 Percent error: 5.747126657485657e-09\n",
            "Slices: 1000 Experimental value: 1450.0000000008342 Percent error: 5.753338035870472e-13\n"
          ]
        }
      ]
    },
    {
      "cell_type": "markdown",
      "source": [
        "**As we can see from both results, applying Simpson's rule gave a more accurate approximation at significantly lower slices since every set of three successive points are fitted into a parabola.**"
      ],
      "metadata": {
        "id": "JoL7iNavnLKl"
      }
    },
    {
      "cell_type": "markdown",
      "metadata": {
        "id": "kBX9EyMLOnXj"
      },
      "source": [
        "### PROBLEM 2 (20 pts.)\n",
        "\n",
        "**Integration using the adaptive trapezoidal rule method and Romberg integration**\n",
        "\n",
        "Calculate the integral $ I = \\int_0^1 \\sin^2 \\sqrt{100x} \\mbox{d}x $.\n",
        "\n",
        "1. Do the numerical calculation using the adaptive trapezoidal rule method to an approximate accuracy of $\\epsilon = 10^{-6}$. Start with one single integration slice and work up from there to two, four, eight, and so forth. Save and print out the number of slices, its estimate of the integral, and its estimate of the error on the integral, for each value of the number of slices $N$, until the target accuracy is reached. *(8 pts.; 4 pts. for the code & 4 pts. for the discussion text)*\n",
        "\n",
        "2. Repeat the calculation using the Romberg integration technique. Save and print out the same variables as in (1). *(8 pts.; 4 pts. for the code & 4 pts. for the discussion text)*\n",
        "\n",
        "3. Compare the results from both calculations by creating a plot of error estimates vs. $N$. Annotate your chart completely (include proper axis labels and legend). Describe how the trends for the two techniques compare. *(4 pts.; 2 pts. for the chart & 2 pts. for the discussion text)*"
      ]
    },
    {
      "cell_type": "markdown",
      "source": [
        "**ADAPTIVE TRAPEZOIDAL RULE**"
      ],
      "metadata": {
        "id": "BkJUqO25dcIs"
      }
    },
    {
      "cell_type": "code",
      "source": [
        "# Assign values\n",
        "a = 0                      # lower bound\n",
        "b = 1                      # upper bound\n",
        "N = 1                      # initial # of slice\n",
        "h = (b-a)/N                # width formula\n",
        "eps = 1e-6                 # desired approximation accuracy constant\n",
        "\n",
        "# Define the given function as g(x)\n",
        "def g(x):\n",
        "  return (sin(sqrt(100*x)))**2\n",
        "\n",
        "# Get the initial value of the trapezoid with N = 1\n",
        "Initial_trap = trapezoid(g, N, a, b)                       # call trapezoid function from before and input appropriate variable\n",
        "error = (1/3)*(Initial_trap)                               # get the error for the first integral approximation\n",
        "\n",
        "# Initialize lists\n",
        "N_list = []                                                # list of N slices\n",
        "I_estimate_list = []                                       # list of the experimental value of the integral\n",
        "error_adapt_trap_list = []                                 # list of the computed error\n",
        "\n",
        "# Append corresponding values for the initial integral\n",
        "N_list.append(N)\n",
        "I_estimate_list.append(Initial_trap)\n",
        "error_adapt_trap_list.append(error)"
      ],
      "metadata": {
        "id": "vy_awewxRHiI"
      },
      "execution_count": 169,
      "outputs": []
    },
    {
      "cell_type": "code",
      "source": [
        "# Initialize dataframe\n",
        "adapt_trap_df = pd.DataFrame()\n",
        "\n",
        "# Loop until error reaches the desired accuracy\n",
        "while abs(error) > eps:\n",
        "  Adaptive_trap = 0.5*(Initial_trap)                      # initialize the value of the next trapezoid\n",
        "  N*=2                                                    # double the number of slices\n",
        "  N_list.append(N)                                        # append the value of the number of slices\n",
        "\n",
        "  for k in range(1, N ,2):                                # loop over the odd values of k\n",
        "    h = (b-a)/N                                           # update the value of h since we doubled N\n",
        "    Adaptive_trap += h*g(a + k*h)                         # adaptive trapezoid formula  \n",
        "\n",
        "  I_estimate_list.append(Adaptive_trap)                   # append the integral estimate value\n",
        "  error = (1/3)*abs(Adaptive_trap - Initial_trap)         # update the error formula\n",
        "  error_adapt_trap_list.append(error)                     # append the updated error value\n",
        "  Initial_trap = Adaptive_trap                            # repeat by assigning the last solved integral estimate as the new initial integral estimate of the loop\n",
        "\n",
        "# Assign the created lists to columns in the dataframe\n",
        "adapt_trap_df['No. of slices'] = N_list\n",
        "adapt_trap_df['Integral estimate'] = I_estimate_list\n",
        "adapt_trap_df['Error'] = error_adapt_trap_list\n",
        "adapt_trap_df['Target error'] = eps\n",
        "display(adapt_trap_df)\n",
        "\n",
        "print(\"Desired approximate accuracy is reached with\", N, \"slices with an error of\", error)"
      ],
      "metadata": {
        "colab": {
          "base_uri": "https://localhost:8080/",
          "height": 474
        },
        "id": "w9TD536SWgpy",
        "outputId": "d9da6ce3-f036-4c50-e366-4db887e3b3d5"
      },
      "execution_count": 170,
      "outputs": [
        {
          "output_type": "display_data",
          "data": {
            "text/plain": [
              "    No. of slices  Integral estimate         Error  Target error\n",
              "0               1           0.147979  4.932649e-02      0.000001\n",
              "1               2           0.325232  5.908414e-02      0.000001\n",
              "2               4           0.512283  6.235031e-02      0.000001\n",
              "3               8           0.402997  3.642847e-02      0.000001\n",
              "4              16           0.430103  9.035307e-03      0.000001\n",
              "5              32           0.448415  6.103765e-03      0.000001\n",
              "6              64           0.453913  1.832755e-03      0.000001\n",
              "7             128           0.455349  4.785244e-04      0.000001\n",
              "8             256           0.455711  1.209207e-04      0.000001\n",
              "9             512           0.455802  3.031107e-05      0.000001\n",
              "10           1024           0.455825  7.582827e-06      0.000001\n",
              "11           2048           0.455831  1.896023e-06      0.000001\n",
              "12           4096           0.455832  4.740255e-07      0.000001"
            ],
            "text/html": [
              "\n",
              "  <div id=\"df-d9f4f39e-28f4-41fb-83f4-aa3e6330e0a5\">\n",
              "    <div class=\"colab-df-container\">\n",
              "      <div>\n",
              "<style scoped>\n",
              "    .dataframe tbody tr th:only-of-type {\n",
              "        vertical-align: middle;\n",
              "    }\n",
              "\n",
              "    .dataframe tbody tr th {\n",
              "        vertical-align: top;\n",
              "    }\n",
              "\n",
              "    .dataframe thead th {\n",
              "        text-align: right;\n",
              "    }\n",
              "</style>\n",
              "<table border=\"1\" class=\"dataframe\">\n",
              "  <thead>\n",
              "    <tr style=\"text-align: right;\">\n",
              "      <th></th>\n",
              "      <th>No. of slices</th>\n",
              "      <th>Integral estimate</th>\n",
              "      <th>Error</th>\n",
              "      <th>Target error</th>\n",
              "    </tr>\n",
              "  </thead>\n",
              "  <tbody>\n",
              "    <tr>\n",
              "      <th>0</th>\n",
              "      <td>1</td>\n",
              "      <td>0.147979</td>\n",
              "      <td>4.932649e-02</td>\n",
              "      <td>0.000001</td>\n",
              "    </tr>\n",
              "    <tr>\n",
              "      <th>1</th>\n",
              "      <td>2</td>\n",
              "      <td>0.325232</td>\n",
              "      <td>5.908414e-02</td>\n",
              "      <td>0.000001</td>\n",
              "    </tr>\n",
              "    <tr>\n",
              "      <th>2</th>\n",
              "      <td>4</td>\n",
              "      <td>0.512283</td>\n",
              "      <td>6.235031e-02</td>\n",
              "      <td>0.000001</td>\n",
              "    </tr>\n",
              "    <tr>\n",
              "      <th>3</th>\n",
              "      <td>8</td>\n",
              "      <td>0.402997</td>\n",
              "      <td>3.642847e-02</td>\n",
              "      <td>0.000001</td>\n",
              "    </tr>\n",
              "    <tr>\n",
              "      <th>4</th>\n",
              "      <td>16</td>\n",
              "      <td>0.430103</td>\n",
              "      <td>9.035307e-03</td>\n",
              "      <td>0.000001</td>\n",
              "    </tr>\n",
              "    <tr>\n",
              "      <th>5</th>\n",
              "      <td>32</td>\n",
              "      <td>0.448415</td>\n",
              "      <td>6.103765e-03</td>\n",
              "      <td>0.000001</td>\n",
              "    </tr>\n",
              "    <tr>\n",
              "      <th>6</th>\n",
              "      <td>64</td>\n",
              "      <td>0.453913</td>\n",
              "      <td>1.832755e-03</td>\n",
              "      <td>0.000001</td>\n",
              "    </tr>\n",
              "    <tr>\n",
              "      <th>7</th>\n",
              "      <td>128</td>\n",
              "      <td>0.455349</td>\n",
              "      <td>4.785244e-04</td>\n",
              "      <td>0.000001</td>\n",
              "    </tr>\n",
              "    <tr>\n",
              "      <th>8</th>\n",
              "      <td>256</td>\n",
              "      <td>0.455711</td>\n",
              "      <td>1.209207e-04</td>\n",
              "      <td>0.000001</td>\n",
              "    </tr>\n",
              "    <tr>\n",
              "      <th>9</th>\n",
              "      <td>512</td>\n",
              "      <td>0.455802</td>\n",
              "      <td>3.031107e-05</td>\n",
              "      <td>0.000001</td>\n",
              "    </tr>\n",
              "    <tr>\n",
              "      <th>10</th>\n",
              "      <td>1024</td>\n",
              "      <td>0.455825</td>\n",
              "      <td>7.582827e-06</td>\n",
              "      <td>0.000001</td>\n",
              "    </tr>\n",
              "    <tr>\n",
              "      <th>11</th>\n",
              "      <td>2048</td>\n",
              "      <td>0.455831</td>\n",
              "      <td>1.896023e-06</td>\n",
              "      <td>0.000001</td>\n",
              "    </tr>\n",
              "    <tr>\n",
              "      <th>12</th>\n",
              "      <td>4096</td>\n",
              "      <td>0.455832</td>\n",
              "      <td>4.740255e-07</td>\n",
              "      <td>0.000001</td>\n",
              "    </tr>\n",
              "  </tbody>\n",
              "</table>\n",
              "</div>\n",
              "      <button class=\"colab-df-convert\" onclick=\"convertToInteractive('df-d9f4f39e-28f4-41fb-83f4-aa3e6330e0a5')\"\n",
              "              title=\"Convert this dataframe to an interactive table.\"\n",
              "              style=\"display:none;\">\n",
              "        \n",
              "  <svg xmlns=\"http://www.w3.org/2000/svg\" height=\"24px\"viewBox=\"0 0 24 24\"\n",
              "       width=\"24px\">\n",
              "    <path d=\"M0 0h24v24H0V0z\" fill=\"none\"/>\n",
              "    <path d=\"M18.56 5.44l.94 2.06.94-2.06 2.06-.94-2.06-.94-.94-2.06-.94 2.06-2.06.94zm-11 1L8.5 8.5l.94-2.06 2.06-.94-2.06-.94L8.5 2.5l-.94 2.06-2.06.94zm10 10l.94 2.06.94-2.06 2.06-.94-2.06-.94-.94-2.06-.94 2.06-2.06.94z\"/><path d=\"M17.41 7.96l-1.37-1.37c-.4-.4-.92-.59-1.43-.59-.52 0-1.04.2-1.43.59L10.3 9.45l-7.72 7.72c-.78.78-.78 2.05 0 2.83L4 21.41c.39.39.9.59 1.41.59.51 0 1.02-.2 1.41-.59l7.78-7.78 2.81-2.81c.8-.78.8-2.07 0-2.86zM5.41 20L4 18.59l7.72-7.72 1.47 1.35L5.41 20z\"/>\n",
              "  </svg>\n",
              "      </button>\n",
              "      \n",
              "  <style>\n",
              "    .colab-df-container {\n",
              "      display:flex;\n",
              "      flex-wrap:wrap;\n",
              "      gap: 12px;\n",
              "    }\n",
              "\n",
              "    .colab-df-convert {\n",
              "      background-color: #E8F0FE;\n",
              "      border: none;\n",
              "      border-radius: 50%;\n",
              "      cursor: pointer;\n",
              "      display: none;\n",
              "      fill: #1967D2;\n",
              "      height: 32px;\n",
              "      padding: 0 0 0 0;\n",
              "      width: 32px;\n",
              "    }\n",
              "\n",
              "    .colab-df-convert:hover {\n",
              "      background-color: #E2EBFA;\n",
              "      box-shadow: 0px 1px 2px rgba(60, 64, 67, 0.3), 0px 1px 3px 1px rgba(60, 64, 67, 0.15);\n",
              "      fill: #174EA6;\n",
              "    }\n",
              "\n",
              "    [theme=dark] .colab-df-convert {\n",
              "      background-color: #3B4455;\n",
              "      fill: #D2E3FC;\n",
              "    }\n",
              "\n",
              "    [theme=dark] .colab-df-convert:hover {\n",
              "      background-color: #434B5C;\n",
              "      box-shadow: 0px 1px 3px 1px rgba(0, 0, 0, 0.15);\n",
              "      filter: drop-shadow(0px 1px 2px rgba(0, 0, 0, 0.3));\n",
              "      fill: #FFFFFF;\n",
              "    }\n",
              "  </style>\n",
              "\n",
              "      <script>\n",
              "        const buttonEl =\n",
              "          document.querySelector('#df-d9f4f39e-28f4-41fb-83f4-aa3e6330e0a5 button.colab-df-convert');\n",
              "        buttonEl.style.display =\n",
              "          google.colab.kernel.accessAllowed ? 'block' : 'none';\n",
              "\n",
              "        async function convertToInteractive(key) {\n",
              "          const element = document.querySelector('#df-d9f4f39e-28f4-41fb-83f4-aa3e6330e0a5');\n",
              "          const dataTable =\n",
              "            await google.colab.kernel.invokeFunction('convertToInteractive',\n",
              "                                                     [key], {});\n",
              "          if (!dataTable) return;\n",
              "\n",
              "          const docLinkHtml = 'Like what you see? Visit the ' +\n",
              "            '<a target=\"_blank\" href=https://colab.research.google.com/notebooks/data_table.ipynb>data table notebook</a>'\n",
              "            + ' to learn more about interactive tables.';\n",
              "          element.innerHTML = '';\n",
              "          dataTable['output_type'] = 'display_data';\n",
              "          await google.colab.output.renderOutput(dataTable, element);\n",
              "          const docLink = document.createElement('div');\n",
              "          docLink.innerHTML = docLinkHtml;\n",
              "          element.appendChild(docLink);\n",
              "        }\n",
              "      </script>\n",
              "    </div>\n",
              "  </div>\n",
              "  "
            ]
          },
          "metadata": {}
        },
        {
          "output_type": "stream",
          "name": "stdout",
          "text": [
            "Desired approximate accuracy is reached with 4096 slices with an error of 4.7402554180046386e-07\n"
          ]
        }
      ]
    },
    {
      "cell_type": "code",
      "source": [
        "# Initialize dataframe and lists for plotting\n",
        "rom_df = pd.DataFrame()   \n",
        "rom_triangle = []               # initialize list for all integral estimates using Romberg integration\n",
        "rom_estimate = []               # initialize list for final integral estimate per row\n",
        "\n",
        "# Solve for the error of the first integral estimate I1\n",
        "rom_error = (1/(4**1 - 1))*(adapt_trap_df['Integral estimate'][0] - 0)     # since there is no integral estimate before the 0th index, we set the 'intial' to zero (same as before)\n",
        "rom_error_list = []                                                        # initialize list for errors\n",
        "\n",
        "# Define initial indices for the Romberg integration\n",
        "i = 0        # adaptive trapezoidal index\n",
        "m = 0        # romberg index\n",
        "R_im = 0     # initialize value of integral estimate\n",
        "\n",
        "# Start of while loop\n",
        "while abs(rom_error) > eps:                               # loop while error is greater than desired accuracy\n",
        "  if m == 0:                                              # since we start with 0 indexing, this represents the first column of the triangle\n",
        "                                                          # hence, they are just the integral estimates of the previous adaptive trapezoidal rule\n",
        "    R_im = adapt_trap_df['Integral estimate'][i]          # assign the ith iteration of the established adaptive trapezoidal estimate to the ith Romberg integral estimate\n",
        "    rom_triangle.append([R_im])                           # append the value as the first element of the triangle row\n",
        "  else:                                                                                                 # if not, then this is the next Romberg integral estimate for the row\n",
        "    R_im = rom_triangle[i][m-1] + (1/(4**(m)-1))*(rom_triangle[i][m-1] - rom_triangle[i-1][m-1])        # Romberg formula\n",
        "    rom_triangle[i].append(R_im)                                                                        # append the value as the next element of the triangle\n",
        "# Run through the next if statement which now checks for i       \n",
        "  if i != m:                                                                            # if i is not yet m, then this is not the last integral estimate of the row\n",
        "    rom_error = abs((1/(4**(m+1) - 1))*(rom_triangle[i][m] - rom_triangle[i-1][m]))     # error formula\n",
        "    m += 1                                                                              # since m has to catch up with i until they are equal to break the row, add 1 to i\n",
        "  else:                                                 # if i is m, then this is the final Romberg integral estimate of the row\n",
        "    i += 1                                              # initialize the next row of the triangle by adding 1 to the current value of i\n",
        "    m = 0                                               # reset m back to 0 since m always starts at 0 with every new row\n",
        "  \n",
        "    rom_estimate.append(R_im)                           # append the last solved value of the Romberg integral estimate to the triangle\n",
        "    rom_error_list.append(rom_error)                    # append error of the penultimate Romberg integral estimate\n",
        "\n",
        "rom_error_list.append(rom_error)                        # since the error of the final Romberg integral estimate cannot be solved using the formula, we just append the latest error after the loop\n",
        "rom_estimate.append(R_im)                               # do the same for the final Romberg integral estimates\n",
        "\n",
        "# Present data by assigning columns to the dataframe\n",
        "slices_list = N_list[:len(rom_error_list)]              # make a list of N slices\n",
        "rom_df['No. of slices'] = slices_list               \n",
        "rom_df['Final integral estimate'] = rom_estimate          \n",
        "rom_df['Error'] = rom_error_list\n",
        "\n",
        "# Print both Romberg triangle and the dataframe\n",
        "print('Romberg Triangle')\n",
        "for i in rom_triangle:                                  # print the Romberg triangle\n",
        "  print(i)\n",
        "print('\\nRomberg Integration')\n",
        "rom_df"
      ],
      "metadata": {
        "id": "o5Yrilxmji7G",
        "colab": {
          "base_uri": "https://localhost:8080/",
          "height": 442
        },
        "outputId": "3d9b9984-4d59-4204-d556-7c8ff7079e63"
      },
      "execution_count": 172,
      "outputs": [
        {
          "output_type": "stream",
          "name": "stdout",
          "text": [
            "Romberg Triangle\n",
            "[0.147979484546652]\n",
            "[0.3252319078064746, 0.38431604889308213]\n",
            "[0.5122828507233314, 0.5746331650289502, 0.5873209727713414]\n",
            "[0.40299744847824825, 0.36656898106322056, 0.35269803546550527, 0.34897386185747614]\n",
            "[0.430103369294747, 0.43913867623357994, 0.4439766559116039, 0.44542552290281184, 0.4458037647108328]\n",
            "[0.44841466578746986, 0.45451843128504416, 0.4555437482884751, 0.4557273529293778, 0.45576775226281535, 0.45577749223109687]\n",
            "[0.45391293121537585, 0.45574568635801116, 0.45582750336287564, 0.4558320074116757]\n",
            "\n",
            "Romberg Integration\n"
          ]
        },
        {
          "output_type": "execute_result",
          "data": {
            "text/plain": [
              "   No. of slices  Final integral estimate         Error\n",
              "0              1                 0.147979  4.932649e-02\n",
              "1              2                 0.384316  5.908414e-02\n",
              "2              4                 0.587321  1.268781e-02\n",
              "3              8                 0.348974  3.724174e-03\n",
              "4             16                 0.445804  3.782418e-04\n",
              "5             32                 0.455777  9.739968e-06\n",
              "6             64                 0.455832  4.104097e-07"
            ],
            "text/html": [
              "\n",
              "  <div id=\"df-d02f797d-2fe0-489a-b3c8-994ae64ff8be\">\n",
              "    <div class=\"colab-df-container\">\n",
              "      <div>\n",
              "<style scoped>\n",
              "    .dataframe tbody tr th:only-of-type {\n",
              "        vertical-align: middle;\n",
              "    }\n",
              "\n",
              "    .dataframe tbody tr th {\n",
              "        vertical-align: top;\n",
              "    }\n",
              "\n",
              "    .dataframe thead th {\n",
              "        text-align: right;\n",
              "    }\n",
              "</style>\n",
              "<table border=\"1\" class=\"dataframe\">\n",
              "  <thead>\n",
              "    <tr style=\"text-align: right;\">\n",
              "      <th></th>\n",
              "      <th>No. of slices</th>\n",
              "      <th>Final integral estimate</th>\n",
              "      <th>Error</th>\n",
              "    </tr>\n",
              "  </thead>\n",
              "  <tbody>\n",
              "    <tr>\n",
              "      <th>0</th>\n",
              "      <td>1</td>\n",
              "      <td>0.147979</td>\n",
              "      <td>4.932649e-02</td>\n",
              "    </tr>\n",
              "    <tr>\n",
              "      <th>1</th>\n",
              "      <td>2</td>\n",
              "      <td>0.384316</td>\n",
              "      <td>5.908414e-02</td>\n",
              "    </tr>\n",
              "    <tr>\n",
              "      <th>2</th>\n",
              "      <td>4</td>\n",
              "      <td>0.587321</td>\n",
              "      <td>1.268781e-02</td>\n",
              "    </tr>\n",
              "    <tr>\n",
              "      <th>3</th>\n",
              "      <td>8</td>\n",
              "      <td>0.348974</td>\n",
              "      <td>3.724174e-03</td>\n",
              "    </tr>\n",
              "    <tr>\n",
              "      <th>4</th>\n",
              "      <td>16</td>\n",
              "      <td>0.445804</td>\n",
              "      <td>3.782418e-04</td>\n",
              "    </tr>\n",
              "    <tr>\n",
              "      <th>5</th>\n",
              "      <td>32</td>\n",
              "      <td>0.455777</td>\n",
              "      <td>9.739968e-06</td>\n",
              "    </tr>\n",
              "    <tr>\n",
              "      <th>6</th>\n",
              "      <td>64</td>\n",
              "      <td>0.455832</td>\n",
              "      <td>4.104097e-07</td>\n",
              "    </tr>\n",
              "  </tbody>\n",
              "</table>\n",
              "</div>\n",
              "      <button class=\"colab-df-convert\" onclick=\"convertToInteractive('df-d02f797d-2fe0-489a-b3c8-994ae64ff8be')\"\n",
              "              title=\"Convert this dataframe to an interactive table.\"\n",
              "              style=\"display:none;\">\n",
              "        \n",
              "  <svg xmlns=\"http://www.w3.org/2000/svg\" height=\"24px\"viewBox=\"0 0 24 24\"\n",
              "       width=\"24px\">\n",
              "    <path d=\"M0 0h24v24H0V0z\" fill=\"none\"/>\n",
              "    <path d=\"M18.56 5.44l.94 2.06.94-2.06 2.06-.94-2.06-.94-.94-2.06-.94 2.06-2.06.94zm-11 1L8.5 8.5l.94-2.06 2.06-.94-2.06-.94L8.5 2.5l-.94 2.06-2.06.94zm10 10l.94 2.06.94-2.06 2.06-.94-2.06-.94-.94-2.06-.94 2.06-2.06.94z\"/><path d=\"M17.41 7.96l-1.37-1.37c-.4-.4-.92-.59-1.43-.59-.52 0-1.04.2-1.43.59L10.3 9.45l-7.72 7.72c-.78.78-.78 2.05 0 2.83L4 21.41c.39.39.9.59 1.41.59.51 0 1.02-.2 1.41-.59l7.78-7.78 2.81-2.81c.8-.78.8-2.07 0-2.86zM5.41 20L4 18.59l7.72-7.72 1.47 1.35L5.41 20z\"/>\n",
              "  </svg>\n",
              "      </button>\n",
              "      \n",
              "  <style>\n",
              "    .colab-df-container {\n",
              "      display:flex;\n",
              "      flex-wrap:wrap;\n",
              "      gap: 12px;\n",
              "    }\n",
              "\n",
              "    .colab-df-convert {\n",
              "      background-color: #E8F0FE;\n",
              "      border: none;\n",
              "      border-radius: 50%;\n",
              "      cursor: pointer;\n",
              "      display: none;\n",
              "      fill: #1967D2;\n",
              "      height: 32px;\n",
              "      padding: 0 0 0 0;\n",
              "      width: 32px;\n",
              "    }\n",
              "\n",
              "    .colab-df-convert:hover {\n",
              "      background-color: #E2EBFA;\n",
              "      box-shadow: 0px 1px 2px rgba(60, 64, 67, 0.3), 0px 1px 3px 1px rgba(60, 64, 67, 0.15);\n",
              "      fill: #174EA6;\n",
              "    }\n",
              "\n",
              "    [theme=dark] .colab-df-convert {\n",
              "      background-color: #3B4455;\n",
              "      fill: #D2E3FC;\n",
              "    }\n",
              "\n",
              "    [theme=dark] .colab-df-convert:hover {\n",
              "      background-color: #434B5C;\n",
              "      box-shadow: 0px 1px 3px 1px rgba(0, 0, 0, 0.15);\n",
              "      filter: drop-shadow(0px 1px 2px rgba(0, 0, 0, 0.3));\n",
              "      fill: #FFFFFF;\n",
              "    }\n",
              "  </style>\n",
              "\n",
              "      <script>\n",
              "        const buttonEl =\n",
              "          document.querySelector('#df-d02f797d-2fe0-489a-b3c8-994ae64ff8be button.colab-df-convert');\n",
              "        buttonEl.style.display =\n",
              "          google.colab.kernel.accessAllowed ? 'block' : 'none';\n",
              "\n",
              "        async function convertToInteractive(key) {\n",
              "          const element = document.querySelector('#df-d02f797d-2fe0-489a-b3c8-994ae64ff8be');\n",
              "          const dataTable =\n",
              "            await google.colab.kernel.invokeFunction('convertToInteractive',\n",
              "                                                     [key], {});\n",
              "          if (!dataTable) return;\n",
              "\n",
              "          const docLinkHtml = 'Like what you see? Visit the ' +\n",
              "            '<a target=\"_blank\" href=https://colab.research.google.com/notebooks/data_table.ipynb>data table notebook</a>'\n",
              "            + ' to learn more about interactive tables.';\n",
              "          element.innerHTML = '';\n",
              "          dataTable['output_type'] = 'display_data';\n",
              "          await google.colab.output.renderOutput(dataTable, element);\n",
              "          const docLink = document.createElement('div');\n",
              "          docLink.innerHTML = docLinkHtml;\n",
              "          element.appendChild(docLink);\n",
              "        }\n",
              "      </script>\n",
              "    </div>\n",
              "  </div>\n",
              "  "
            ]
          },
          "metadata": {},
          "execution_count": 172
        }
      ]
    },
    {
      "cell_type": "code",
      "source": [
        "# Plot both datasets\n",
        "fig, ax = plt.subplots()\n",
        "\n",
        "# Plot the no. of slices and errors of both integration techniques including the target error for reference\n",
        "ax.plot(adapt_trap_df['No. of slices'], adapt_trap_df['Error'], 'r', label='Adaptive Trapezoidal Rule', marker='s')        # x-axis: N, y-axis: error\n",
        "ax.plot(rom_df['No. of slices'], rom_df['Error'], 'k', label='Romberg Integration', marker='s')\n",
        "ax.plot(adapt_trap_df['No. of slices'], adapt_trap_df['Target error'], 'b', label='Target Accuracy', linestyle='--')\n",
        "\n",
        "# Scale the axes to standard logarithmic scales\n",
        "ax.set_xscale('log')\n",
        "ax.set_yscale('log')\n",
        "\n",
        "# Label the axes\n",
        "ax.set_xlabel('No. of slices (N)')\n",
        "ax.set_ylabel('Error estimate')\n",
        "\n",
        "# Set the limits for each axis\n",
        "plt.xlim(1,4500)\n",
        "plt.ylim(10e-8,10)\n",
        "plt.title('Numerical integration techniques')         # set title\n",
        "plt.legend()                                          # show legend\n",
        "plt.show()                                            # show plot"
      ],
      "metadata": {
        "colab": {
          "base_uri": "https://localhost:8080/",
          "height": 299
        },
        "id": "xLuAhIoc95rH",
        "outputId": "4fc6a5df-7099-437d-8ff3-b8d9a3bc0cd8"
      },
      "execution_count": 173,
      "outputs": [
        {
          "output_type": "display_data",
          "data": {
            "text/plain": [
              "<Figure size 432x288 with 1 Axes>"
            ],
            "image/png": "[encoded data removed]"
          },
          "metadata": {
            "needs_background": "light"
          }
        }
      ]
    },
    {
      "cell_type": "markdown",
      "source": [
        "**As we can see from the plot above, the Romberg integral estimate reached the target accuracy at a much faster rate with 64 slices, as opposed to the 4096 slices needed by the adaptive trapezoidal integral estimate.**"
      ],
      "metadata": {
        "id": "R6HDvBSGb0cj"
      }
    },
    {
      "cell_type": "markdown",
      "metadata": {
        "id": "m2a6sg90R-NX"
      },
      "source": [
        "### PROBLEM 3 (10 pts.)\n",
        "\n",
        "**Integration using Gaussian quadrature**\n",
        "\n",
        "Calculate the integral from Problem 1 using the Gaussian quadrature method: $ 2x^4 + 3x^2 + 4x + 5$ from $x=0$ to $x=5$.\n",
        "\n",
        "1. Define the function $\\tt gaussxw$ from Appendix E of the Newman text (and run the cell). *(2 pts.)*\n",
        "\n",
        "2. Calculate the integral using the $\\tt gaussxw$ function in (1) and number of slices $N = 3$. Describe each step in the calculation clearly and concisely. *(8 pts.; 4 pts. for the code & 4 pts. for the discussion text)*"
      ]
    },
    {
      "cell_type": "code",
      "metadata": {
        "id": "YO_PDJ4VIVs5"
      },
      "source": [
        "# Define gaussxw function from Appendix E of Newman's text\n",
        "def gaussxw(N):\n",
        "\n",
        "    # Initial approximation to roots of the Legendre polynomial\n",
        "    a = linspace(3,4*N-1,N)/(4*N+2)\n",
        "    x = cos(pi*a+1/(8*N*N*tan(a)))\n",
        "\n",
        "    # Find roots using Newton's method\n",
        "    epsilon = 1e-15\n",
        "    delta = 1.0\n",
        "    while delta>epsilon:\n",
        "        p0 = ones(N,float)\n",
        "        p1 = copy(x)\n",
        "        for k in range(1,N):\n",
        "            p0,p1 = p1,((2*k+1)*x*p1-k*p0)/(k+1)\n",
        "        dp = (N+1)*(p0-x*p1)/(1-x*x)\n",
        "        dx = p1/dp\n",
        "        x -= dx\n",
        "        delta = max(abs(dx))\n",
        "\n",
        "    # Calculate the weights\n",
        "    w = 2*(N+1)*(N+1)/(N*N*(1-x*x)*dp*dp)\n",
        "\n",
        "    return x,w\n",
        "\n",
        "# Define gaussxwb function\n",
        "def gaussxwab(N,a,b):\n",
        "    x,w = gaussxw(N)\n",
        "    return 0.5*(b-a)*x+0.5*(b+a),0.5*(b-a)*w\n",
        "  "
      ],
      "execution_count": 162,
      "outputs": []
    },
    {
      "cell_type": "code",
      "source": [
        "# Define the given function as f(x)\n",
        "def f(x):\n",
        "  return (2*x**4 + 3*x**2 + 4*x + 5)\n",
        "\n",
        "a = 0.0                                     # lower bound\n",
        "b = 5.0                                     # upper bound\n",
        "N = 3                                       # number of slices\n",
        "Exact_val = 1450                            # exact value of the integral\n",
        "\n",
        "# Calculate the sample points and weights\n",
        "x, w = gaussxw(N)\n",
        "xp = 0.5*(b-a)*x + 0.5*(b+a)                # map the sample points to specified domain\n",
        "wp = 0.5*(b-a)*w                            # rescale the weights\n",
        "\n",
        "# Initialize the experimental value of the integral\n",
        "I_val = 0.0\n",
        "\n",
        "# Sum the product of the computed sample points with respective weights\n",
        "for k in range(N):\n",
        "  I_val += wp[k]*f(xp[k])                   # Newman formula\n",
        "error = (I_val - Exact_val)/Exact_val       # calculate the percent error of the experimental value of the integral\n",
        "print(\"Using the gaussian quadrature function, the approximate value of the integral is:\", I_val, \"with percent error:\", error)"
      ],
      "metadata": {
        "colab": {
          "base_uri": "https://localhost:8080/"
        },
        "id": "iN6bCq5skujC",
        "outputId": "0e90b9d8-a58b-44dd-a196-acd03663bc8c"
      },
      "execution_count": 166,
      "outputs": [
        {
          "output_type": "stream",
          "name": "stdout",
          "text": [
            "Using the gaussian quadrature function, the approximate value of the integral is: 1450.000000000002 with percent error: 1.4112848820614403e-15\n"
          ]
        }
      ]
    },
    {
      "cell_type": "code",
      "source": [
        "# Similarly, we can call the gaussxwab function which automatically maps and scales the sample points and weights, respectively\n",
        "x, w = gaussxwab(N, a, b)                      \n",
        "integral = 0.0                                 # initialize integral\n",
        "\n",
        "for k in range(N):\n",
        "  integral += w[k] * f(x[k])                   # Newman formula\n",
        "error = (integral - Exact_val)/Exact_val       # calculate the percent error of the experimental value of the integral\n",
        "print(\"Using the gaussian quadrature function, the approximate value of the integral is:\", integral, \"with percent error:\", error)"
      ],
      "metadata": {
        "colab": {
          "base_uri": "https://localhost:8080/"
        },
        "id": "r0fbPQDwFMi7",
        "outputId": "9ade54f7-4c37-459e-b321-cd0a974b42f6"
      },
      "execution_count": 167,
      "outputs": [
        {
          "output_type": "stream",
          "name": "stdout",
          "text": [
            "Using the gaussian quadrature function, the approximate value of the integral is: 1450.000000000002 with percent error: 1.4112848820614403e-15\n"
          ]
        }
      ]
    },
    {
      "cell_type": "markdown",
      "metadata": {
        "id": "HceOjNu-VfN9"
      },
      "source": [
        "### PROBLEM 4 (30 pts.)\n",
        "\n",
        "**Physics Application: Anharmonic Oscillator**\n",
        "\n",
        "_Refer to Exercise 5.10 of the Newman text._ Consider an anharmonic oscillator with potential $V(x)$ symmetric about $x = 0$. Let us set our anharmonic oscillator going with amplitude $a$. That is, at $t = 0$ we release it from rest at position $x = a$ and it swings back towards the origin. Then at $t = 0$ we have $dx/dt = 0$ and the equation for its total energy becomes $E = V(a)$, i.e., the total energy of the particle is given in terms of the amplitude.\n",
        "\n",
        "When the particle reaches the origin for the first time, it has gone through one quarter of a period of the oscillator. The period $T$ is given by: $$ T = \\sqrt{8m} \\int_0^a \\frac{dx}{\\sqrt{V(a)-V(x)}}. $$\n",
        "\n",
        "1. Suppose the potential is $V(x) = x^4$ and the mass of the particle is $m = 1$. Write a Python function that calculates the period of the oscillator for given amplitude a using Gaussian quadrature with $N = 20$ points. Describe each step clearly and concisely. *(16 pts.; 8 pts. for the code & 8 pts. for the discussion text)*\n",
        "\n",
        "2. Use your function to make a graph of the period for amplitudes ranging from $a = 0$ to $a = 2$. Describe the behavior you find and explain these results clearly and concisely. *(14 pts.; 7 pts. for the plot & 7 pts. for the discussion text)*"
      ]
    },
    {
      "cell_type": "code",
      "source": [
        "# Assign variables\n",
        "m = 1\n",
        "N = 20\n",
        "a = np.linspace(0.1,2,100)                       # create an array for the amplitude points\n",
        "\n",
        "# Initialize list                                \n",
        "Periods = []\n",
        "\n",
        "# Define functions\n",
        "def v(x):\n",
        "  return x**4\n",
        "\n",
        "def f(x, a):\n",
        "  return 1 / sqrt(v(a) - v(x))                   \n",
        "\n",
        "# Calculate the period of the oscillator given an amplitude a\n",
        "def T(a):\n",
        "  x, w = gaussxwab(N, 0, a)                      # call gaussxwab function to generate sample points and weights\n",
        "  integral = 0.0                                 # initialize integral\n",
        "  for k in range(N):                             # solve for integral by summation loop as before\n",
        "    integral += w[k] * f(x[k], a)\n",
        "\n",
        "  return sqrt(8*m)*integral                      # return the overall function of period T\n",
        "\n",
        "# Append the computed values of T in the Periods list\n",
        "for i in range(len(a)):\n",
        "    Periods.append(T(a[i]))\n",
        "\n",
        "# Plot\n",
        "plt.title(\"Period of an anharmonic oscillator\")\n",
        "plt.xlabel(\"Amplitude (m)\")\n",
        "plt.ylabel(\"Period (s)\")\n",
        "plt.plot(a,Periods)\n",
        "plt.show()"
      ],
      "metadata": {
        "colab": {
          "base_uri": "https://localhost:8080/",
          "height": 295
        },
        "id": "AN-r3B7hCP2o",
        "outputId": "a307d595-ab20-4a4a-f79b-b6d1cbc7a0cd"
      },
      "execution_count": 103,
      "outputs": [
        {
          "output_type": "display_data",
          "data": {
            "text/plain": [
              "<Figure size 432x288 with 1 Axes>"
            ],
            "image/png": "[encoded data removed]"
          },
          "metadata": {
            "needs_background": "light"
          }
        }
      ]
    },
    {
      "cell_type": "markdown",
      "source": [
        "**From the plot above, we can see that as the amplitude increases, the period decreases. Since the potential is given by V(x) = x^4, this inverse relationship makes sense. We can also note that the period diverges at amplitude = 0.**"
      ],
      "metadata": {
        "id": "1z8d3Oy3dtz1"
      }
    },
    {
      "cell_type": "markdown",
      "metadata": {
        "id": "BY5x-mZsYoqG"
      },
      "source": [
        "### PROBLEM 5 (20 pts.)\n",
        "\n",
        "**Differentiation using central difference**\n",
        "\n",
        "1. Calculate the derivative of the function $1 + \\frac{1}{2} \\tanh 2x$ in the range $-2 \\le x \\le 2$ using central difference. Describe each step of the calculation clearly and concisely. *(10 pts.; 5 pts. for the code & 5 pts. for the discussion text)*\n",
        "\n",
        "2. Calculate an analytic formula for the derivative and make a graph with your numerical result and the analytic answer on the same plot. Plot the exact answer as lines and the numerical one as dots. Describe how the two results compare. *(10 pts.; 5 pts. for the code & 5 pts. for the discussion text)*"
      ]
    },
    {
      "cell_type": "code",
      "metadata": {
        "id": "ZWXWJyYdLS5G",
        "colab": {
          "base_uri": "https://localhost:8080/",
          "height": 295
        },
        "outputId": "cf6a9f72-fd72-4741-b885-33797d989cad"
      },
      "source": [
        "# Define the given function as f(x)\n",
        "def f(x):\n",
        "  return 1 + (0.5 * tanh(2*x))\n",
        "\n",
        "# Assign variables\n",
        "x_range = np.linspace(-2, 2, 100)                           # create an array for x points\n",
        "h = 0.01                                                    # assign a small enough value to the width for the approximation\n",
        "\n",
        "# Initialize list for numerical and analytic derivatives\n",
        "numerical = []\n",
        "analytic = []\n",
        "\n",
        "# Loop over the values of x_range\n",
        "for x in x_range:\n",
        "  numerical_der = (f(x + h/2) - f(x - h/2))/h               # numerical derivative using Newman formula for central difference\n",
        "  analytic_der = (1 / cosh(2*x))**2                         # analytic derivative done by hand\n",
        "  analytic.append(analytic_der)                             # append values of analytic derivative under list  \n",
        "  numerical.append(numerical_der)                           # append values of numerical derivative under list\n",
        "\n",
        "# Plot\n",
        "plt.plot(x_range, analytic, label = \"analytic\", linestyle ='solid')        # set appropriate axes values, labels, and graphing styles\n",
        "plt.plot(x_range, numerical, label = \"numerical\", linestyle = (0,(0.1,3)), dash_capstyle = 'round', linewidth = 4, color = 'green')\n",
        "plt.title(\"Differentiation using central difference\")                      # set title\n",
        "plt.legend()                                                               # show legend\n",
        "plt.xlabel(\"x\")                                                            # set axis label\n",
        "plt.ylabel(\"df/dx\")                                                        # set axis label\n",
        "plt.show()"
      ],
      "execution_count": 168,
      "outputs": [
        {
          "output_type": "display_data",
          "data": {
            "text/plain": [
              "<Figure size 432x288 with 1 Axes>"
            ],
            "image/png": "[encoded data removed]"
          },
          "metadata": {
            "needs_background": "light"
          }
        }
      ]
    },
    {
      "cell_type": "markdown",
      "source": [
        "**As we can see from the plot above, numerical differentiation using central difference is a sufficiently accurate method for the given function. At h = 0.02, the numerical values lie on the same curve as the analytical values.**"
      ],
      "metadata": {
        "id": "oUApLCAMdtEj"
      }
    }
  ]
}